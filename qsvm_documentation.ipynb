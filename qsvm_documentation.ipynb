{
 "cells": [
  {
   "cell_type": "markdown",
   "id": "727ffbe2",
   "metadata": {},
   "source": [
    "# quantum_machine_learning.myqml.QSVM\n",
    "\n",
    "**class quantum_machine_learning.myqml.QSVM(n_qubits, device=, kernel_circuit_label, angle_encoding_type='x', custom_kernel=None)**    \n",
    "\n",
    "Class to solve a Supervised Machine Learning binary classification problem using the Quantum Support Vector Machine (QSVM) algorithm. It defines the qkernel method which is used as input of the SVC class (parent class) of scikit-learn that implements a classical SVM algorithm. Thus, all the quantumness is embedded in the definition of the kernel.\n",
    "\n",
    "**Parameters:**\n",
    "- **n_qubits** (int): Number of qubits used for the quantum circuit, which must be equal to the number of features of the dataset\n",
    "- **device** (str): Indicates whether the quantum circuits are executed locally (myQLM) or sent to a Qaptiva emulator as batches.\n",
    "- **kernel_circuit_label** (str): Encoding type for the kernel circuit. Can be either 'angle_encoding', 'zz_encoding' or None if a custom_kernel is used.\n",
    "- **angle_encoding_type** (str): Axis of rotation employed for the rotation gates of the quantum circuit ('x', 'y' or 'z'), if 'angle_encoding' is utilized. It can be None is 'zz_encoding' is selected.\n",
    "- **custom_kernel** (function): Given two input vectors, the function must create a kernel circuit and return an obbject of the class Program.\n",
    "\n",
    "**kernel_circuit(a, b)**\n",
    "\n",
    "Given two input vectors (samples of the dataset), this method creates a quantum circuit to implement the kernel specified \n",
    "by the attributes **kernel_circuit_label** and **angle_encoding_type**  and returns the probability of measuring all qubits in $|0 \\rangle$\n",
    "\n",
    "**Parameters:**\n",
    "- **a**: Input vector that is used as input angles of the rotation gates applied to each qubit in the feature map.\n",
    "- **b**: Input vector that is used as input angles of the rotation gates applied to each qubit in the inverse feature map.\n",
    "\n",
    "**Returns**: The probability of measuring all qubits in zero\n",
    "\n",
    "**Return type**: float\n",
    "\n",
    "**qkernel(A, B)**\n",
    "\n",
    "This method iterates over all pairs of samples of the dataset and calls **kernel_circuit** to obtain the elements of the kernel matrix, which is returned.\n",
    "\n",
    "**Parameters:**\n",
    "- **A**: iterable that contains the sample vectors used as inputs of the feature map.\n",
    "- **B**: iterable that contains the sample vectors used as inputs of the inverse feature map.\n",
    "\n",
    "**Returns:** The kernel matrix, of dimension number of n_samples x n_samples\n",
    "\n",
    "**Return type:** numpy.ndarray\n",
    "\n",
    "\n",
    "\n",
    "\n"
   ]
  }
 ],
 "metadata": {
  "language_info": {
   "name": "python"
  }
 },
 "nbformat": 4,
 "nbformat_minor": 5
}
