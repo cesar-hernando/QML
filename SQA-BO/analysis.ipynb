{
 "cells": [
  {
   "cell_type": "code",
   "execution_count": 1,
   "id": "b92d912e",
   "metadata": {},
   "outputs": [],
   "source": [
    "from qat.qlmaas import QLMaaSConnection\n",
    "conn = QLMaaSConnection(hostname=\"qlm35e.neasqc.eu\", check_host=False)"
   ]
  },
  {
   "cell_type": "code",
   "execution_count": 2,
   "id": "970ab07a",
   "metadata": {},
   "outputs": [],
   "source": [
    "import parameters\n",
    "from SQA_hyper_tuning_BO import BayesianOptimizer, SQA_solver, Brute_Force_Solver\n",
    "import numpy as np\n",
    "import matplotlib.pyplot as plt\n",
    "import pandas as pd\n",
    "import time"
   ]
  },
  {
   "cell_type": "code",
   "execution_count": 3,
   "id": "a4af22ac",
   "metadata": {},
   "outputs": [],
   "source": [
    "n_spins, n_shots, delta_t = parameters.n_spins, parameters.n_shots, parameters.delta_t\n",
    "n_init, n_iters = parameters.n_init, parameters.n_iters\n",
    "min_vals, max_vals = parameters.min_vals, parameters.max_vals\n",
    "bounds = [(min_vals[i], max_vals[i]) for i in range(len(min_vals))]"
   ]
  },
  {
   "cell_type": "code",
   "execution_count": null,
   "id": "3ecdd842",
   "metadata": {},
   "outputs": [
    {
     "name": "stdout",
     "output_type": "stream",
     "text": [
      "Running Bayesian optimization with seed 1...\n",
      "Submitted a new batch: SJob44089\n",
      "Submitted a new batch: SJob44090\n",
      "Submitted a new batch: SJob44091\n"
     ]
    },
    {
     "ename": "KeyboardInterrupt",
     "evalue": "",
     "output_type": "error",
     "traceback": [
      "\u001b[31m---------------------------------------------------------------------------\u001b[39m",
      "\u001b[31mKeyboardInterrupt\u001b[39m                         Traceback (most recent call last)",
      "\u001b[36mCell\u001b[39m\u001b[36m \u001b[39m\u001b[32mIn[4]\u001b[39m\u001b[32m, line 28\u001b[39m\n\u001b[32m     26\u001b[39m \u001b[38;5;28mprint\u001b[39m(\u001b[33mf\u001b[39m\u001b[33m\"\u001b[39m\u001b[33mRunning Bayesian optimization with seed \u001b[39m\u001b[38;5;132;01m{\u001b[39;00mseed\u001b[38;5;132;01m}\u001b[39;00m\u001b[33m...\u001b[39m\u001b[33m\"\u001b[39m)\n\u001b[32m     27\u001b[39m start = time.time()\n\u001b[32m---> \u001b[39m\u001b[32m28\u001b[39m bo = \u001b[43mBayesianOptimizer\u001b[49m\u001b[43m(\u001b[49m\u001b[43msqa\u001b[49m\u001b[43m=\u001b[49m\u001b[43msqa\u001b[49m\u001b[43m,\u001b[49m\u001b[43m \u001b[49m\u001b[43mbounds\u001b[49m\u001b[43m=\u001b[49m\u001b[43mbounds\u001b[49m\u001b[43m,\u001b[49m\u001b[43m \u001b[49m\u001b[43mn_init\u001b[49m\u001b[43m=\u001b[49m\u001b[43mn_init\u001b[49m\u001b[43m,\u001b[49m\u001b[43m \u001b[49m\u001b[43mseed\u001b[49m\u001b[43m=\u001b[49m\u001b[43mseed\u001b[49m\u001b[43m)\u001b[49m\n\u001b[32m     29\u001b[39m X_opt, Y_opt, history = bo.optimize(n_iters=n_iters)\n\u001b[32m     30\u001b[39m best_idx = np.argmin(Y_opt)\n",
      "\u001b[36mFile \u001b[39m\u001b[32mc:\\Users\\a943763\\OneDrive - ATOS\\Documentos\\Python\\SQA\\SQA_Tunning\\Codes\\Laboratory\\SQA_tunning_temp_gamma_0_v1\\ML_hyp_tuning\\SQA_hyper_tuning_BO.py:260\u001b[39m, in \u001b[36mBayesianOptimizer.__init__\u001b[39m\u001b[34m(self, sqa, bounds, n_init, kernel, xi, seed)\u001b[39m\n\u001b[32m    258\u001b[39m \u001b[38;5;66;03m# Initialize with random samples\u001b[39;00m\n\u001b[32m    259\u001b[39m \u001b[38;5;28mself\u001b[39m.X_sample = \u001b[38;5;28mself\u001b[39m._random_sample(n_init)\n\u001b[32m--> \u001b[39m\u001b[32m260\u001b[39m \u001b[38;5;28mself\u001b[39m.Y_sample = \u001b[38;5;28;43mself\u001b[39;49m\u001b[43m.\u001b[49m\u001b[43m_evaluate\u001b[49m\u001b[43m(\u001b[49m\u001b[38;5;28;43mself\u001b[39;49m\u001b[43m.\u001b[49m\u001b[43mX_sample\u001b[49m\u001b[43m)\u001b[49m\n",
      "\u001b[36mFile \u001b[39m\u001b[32mc:\\Users\\a943763\\OneDrive - ATOS\\Documentos\\Python\\SQA\\SQA_Tunning\\Codes\\Laboratory\\SQA_tunning_temp_gamma_0_v1\\ML_hyp_tuning\\SQA_hyper_tuning_BO.py:266\u001b[39m, in \u001b[36mBayesianOptimizer._evaluate\u001b[39m\u001b[34m(self, X)\u001b[39m\n\u001b[32m    265\u001b[39m \u001b[38;5;28;01mdef\u001b[39;00m\u001b[38;5;250m \u001b[39m\u001b[34m_evaluate\u001b[39m(\u001b[38;5;28mself\u001b[39m, X):\n\u001b[32m--> \u001b[39m\u001b[32m266\u001b[39m     \u001b[38;5;28;01mreturn\u001b[39;00m np.array(\u001b[43m[\u001b[49m\u001b[38;5;28;43mself\u001b[39;49m\u001b[43m.\u001b[49m\u001b[43mfunc\u001b[49m\u001b[43m(\u001b[49m\u001b[43mx\u001b[49m\u001b[43m)\u001b[49m\u001b[43m \u001b[49m\u001b[38;5;28;43;01mfor\u001b[39;49;00m\u001b[43m \u001b[49m\u001b[43mx\u001b[49m\u001b[43m \u001b[49m\u001b[38;5;129;43;01min\u001b[39;49;00m\u001b[43m \u001b[49m\u001b[43mX\u001b[49m\u001b[43m]\u001b[49m).reshape(-\u001b[32m1\u001b[39m, \u001b[32m1\u001b[39m)\n",
      "\u001b[36mFile \u001b[39m\u001b[32mc:\\Users\\a943763\\OneDrive - ATOS\\Documentos\\Python\\SQA\\SQA_Tunning\\Codes\\Laboratory\\SQA_tunning_temp_gamma_0_v1\\ML_hyp_tuning\\SQA_hyper_tuning_BO.py:266\u001b[39m, in \u001b[36m<listcomp>\u001b[39m\u001b[34m(.0)\u001b[39m\n\u001b[32m    265\u001b[39m \u001b[38;5;28;01mdef\u001b[39;00m\u001b[38;5;250m \u001b[39m\u001b[34m_evaluate\u001b[39m(\u001b[38;5;28mself\u001b[39m, X):\n\u001b[32m--> \u001b[39m\u001b[32m266\u001b[39m     \u001b[38;5;28;01mreturn\u001b[39;00m np.array([\u001b[38;5;28;43mself\u001b[39;49m\u001b[43m.\u001b[49m\u001b[43mfunc\u001b[49m\u001b[43m(\u001b[49m\u001b[43mx\u001b[49m\u001b[43m)\u001b[49m \u001b[38;5;28;01mfor\u001b[39;00m x \u001b[38;5;129;01min\u001b[39;00m X]).reshape(-\u001b[32m1\u001b[39m, \u001b[32m1\u001b[39m)\n",
      "\u001b[36mFile \u001b[39m\u001b[32mc:\\Users\\a943763\\OneDrive - ATOS\\Documentos\\Python\\SQA\\SQA_Tunning\\Codes\\Laboratory\\SQA_tunning_temp_gamma_0_v1\\ML_hyp_tuning\\SQA_hyper_tuning_BO.py:99\u001b[39m, in \u001b[36mSQA_solver.solve\u001b[39m\u001b[34m(self, hyperparameters)\u001b[39m\n\u001b[32m     96\u001b[39m result = sqa_qpu.submit(job)\n\u001b[32m     98\u001b[39m \u001b[38;5;66;03m# Extract all solutions (in integer format and its probability)\u001b[39;00m\n\u001b[32m---> \u001b[39m\u001b[32m99\u001b[39m states = [(sample.state.int, sample.probability) \u001b[38;5;28;01mfor\u001b[39;00m sample \u001b[38;5;129;01min\u001b[39;00m \u001b[43mresult\u001b[49m\u001b[43m.\u001b[49m\u001b[43mraw_data\u001b[49m]\n\u001b[32m    101\u001b[39m \u001b[38;5;66;03m# Initialize variables to track the minimum energy\u001b[39;00m\n\u001b[32m    102\u001b[39m min_energy = \u001b[38;5;28mfloat\u001b[39m(\u001b[33m\"\u001b[39m\u001b[33minf\u001b[39m\u001b[33m\"\u001b[39m)\n",
      "\u001b[36mFile \u001b[39m\u001b[32mresult.py:58\u001b[39m, in \u001b[36mqat.qlmaas.result._wait_result.nested\u001b[39m\u001b[34m()\u001b[39m\n",
      "\u001b[36mFile \u001b[39m\u001b[32mresult.py:120\u001b[39m, in \u001b[36mqat.qlmaas.result.AsyncResult.join\u001b[39m\u001b[34m()\u001b[39m\n",
      "\u001b[36mFile \u001b[39m\u001b[32mresult.py:138\u001b[39m, in \u001b[36mqat.qlmaas.result.AsyncResult.get_status\u001b[39m\u001b[34m()\u001b[39m\n",
      "\u001b[36mFile \u001b[39m\u001b[32mconnection.py:462\u001b[39m, in \u001b[36mqat.qlmaas.connection.QLMaaSConnection.get_status\u001b[39m\u001b[34m()\u001b[39m\n",
      "\u001b[36mFile \u001b[39m\u001b[32mqlmaas_Scheduler_client.py:46\u001b[39m, in \u001b[36mqat.bind.qlmaas_Scheduler_client.RemoteScheduler.get_job_info\u001b[39m\u001b[34m()\u001b[39m\n",
      "\u001b[36mFile \u001b[39m\u001b[32mhttps.py:645\u001b[39m, in \u001b[36mqat.qlmaas.https.SecuredConnection.send\u001b[39m\u001b[34m()\u001b[39m\n",
      "\u001b[36mFile \u001b[39m\u001b[32mhttps.py:589\u001b[39m, in \u001b[36mqat.qlmaas.https.SecuredConnection._do_stable_request\u001b[39m\u001b[34m()\u001b[39m\n",
      "\u001b[36mFile \u001b[39m\u001b[32mc:\\Users\\a943763\\AppData\\Local\\Programs\\Python\\Python311\\Lib\\http\\client.py:1395\u001b[39m, in \u001b[36mHTTPConnection.getresponse\u001b[39m\u001b[34m(self)\u001b[39m\n\u001b[32m   1393\u001b[39m \u001b[38;5;28;01mtry\u001b[39;00m:\n\u001b[32m   1394\u001b[39m     \u001b[38;5;28;01mtry\u001b[39;00m:\n\u001b[32m-> \u001b[39m\u001b[32m1395\u001b[39m         \u001b[43mresponse\u001b[49m\u001b[43m.\u001b[49m\u001b[43mbegin\u001b[49m\u001b[43m(\u001b[49m\u001b[43m)\u001b[49m\n\u001b[32m   1396\u001b[39m     \u001b[38;5;28;01mexcept\u001b[39;00m \u001b[38;5;167;01mConnectionError\u001b[39;00m:\n\u001b[32m   1397\u001b[39m         \u001b[38;5;28mself\u001b[39m.close()\n",
      "\u001b[36mFile \u001b[39m\u001b[32mc:\\Users\\a943763\\AppData\\Local\\Programs\\Python\\Python311\\Lib\\http\\client.py:325\u001b[39m, in \u001b[36mHTTPResponse.begin\u001b[39m\u001b[34m(self)\u001b[39m\n\u001b[32m    323\u001b[39m \u001b[38;5;66;03m# read until we get a non-100 response\u001b[39;00m\n\u001b[32m    324\u001b[39m \u001b[38;5;28;01mwhile\u001b[39;00m \u001b[38;5;28;01mTrue\u001b[39;00m:\n\u001b[32m--> \u001b[39m\u001b[32m325\u001b[39m     version, status, reason = \u001b[38;5;28;43mself\u001b[39;49m\u001b[43m.\u001b[49m\u001b[43m_read_status\u001b[49m\u001b[43m(\u001b[49m\u001b[43m)\u001b[49m\n\u001b[32m    326\u001b[39m     \u001b[38;5;28;01mif\u001b[39;00m status != CONTINUE:\n\u001b[32m    327\u001b[39m         \u001b[38;5;28;01mbreak\u001b[39;00m\n",
      "\u001b[36mFile \u001b[39m\u001b[32mc:\\Users\\a943763\\AppData\\Local\\Programs\\Python\\Python311\\Lib\\http\\client.py:286\u001b[39m, in \u001b[36mHTTPResponse._read_status\u001b[39m\u001b[34m(self)\u001b[39m\n\u001b[32m    285\u001b[39m \u001b[38;5;28;01mdef\u001b[39;00m\u001b[38;5;250m \u001b[39m\u001b[34m_read_status\u001b[39m(\u001b[38;5;28mself\u001b[39m):\n\u001b[32m--> \u001b[39m\u001b[32m286\u001b[39m     line = \u001b[38;5;28mstr\u001b[39m(\u001b[38;5;28mself\u001b[39m.fp.readline(_MAXLINE + \u001b[32m1\u001b[39m), \u001b[33m\"\u001b[39m\u001b[33miso-8859-1\u001b[39m\u001b[33m\"\u001b[39m)\n\u001b[32m    287\u001b[39m     \u001b[38;5;28;01mif\u001b[39;00m \u001b[38;5;28mlen\u001b[39m(line) > _MAXLINE:\n\u001b[32m    288\u001b[39m         \u001b[38;5;28;01mraise\u001b[39;00m LineTooLong(\u001b[33m\"\u001b[39m\u001b[33mstatus line\u001b[39m\u001b[33m\"\u001b[39m)\n",
      "\u001b[36mFile \u001b[39m\u001b[32mc:\\Users\\a943763\\AppData\\Local\\Programs\\Python\\Python311\\Lib\\socket.py:706\u001b[39m, in \u001b[36mSocketIO.readinto\u001b[39m\u001b[34m(self, b)\u001b[39m\n\u001b[32m    704\u001b[39m \u001b[38;5;28;01mwhile\u001b[39;00m \u001b[38;5;28;01mTrue\u001b[39;00m:\n\u001b[32m    705\u001b[39m     \u001b[38;5;28;01mtry\u001b[39;00m:\n\u001b[32m--> \u001b[39m\u001b[32m706\u001b[39m         \u001b[38;5;28;01mreturn\u001b[39;00m \u001b[38;5;28;43mself\u001b[39;49m\u001b[43m.\u001b[49m\u001b[43m_sock\u001b[49m\u001b[43m.\u001b[49m\u001b[43mrecv_into\u001b[49m\u001b[43m(\u001b[49m\u001b[43mb\u001b[49m\u001b[43m)\u001b[49m\n\u001b[32m    707\u001b[39m     \u001b[38;5;28;01mexcept\u001b[39;00m timeout:\n\u001b[32m    708\u001b[39m         \u001b[38;5;28mself\u001b[39m._timeout_occurred = \u001b[38;5;28;01mTrue\u001b[39;00m\n",
      "\u001b[36mFile \u001b[39m\u001b[32mc:\\Users\\a943763\\AppData\\Local\\Programs\\Python\\Python311\\Lib\\ssl.py:1314\u001b[39m, in \u001b[36mSSLSocket.recv_into\u001b[39m\u001b[34m(self, buffer, nbytes, flags)\u001b[39m\n\u001b[32m   1310\u001b[39m     \u001b[38;5;28;01mif\u001b[39;00m flags != \u001b[32m0\u001b[39m:\n\u001b[32m   1311\u001b[39m         \u001b[38;5;28;01mraise\u001b[39;00m \u001b[38;5;167;01mValueError\u001b[39;00m(\n\u001b[32m   1312\u001b[39m           \u001b[33m\"\u001b[39m\u001b[33mnon-zero flags not allowed in calls to recv_into() on \u001b[39m\u001b[38;5;132;01m%s\u001b[39;00m\u001b[33m\"\u001b[39m %\n\u001b[32m   1313\u001b[39m           \u001b[38;5;28mself\u001b[39m.\u001b[34m__class__\u001b[39m)\n\u001b[32m-> \u001b[39m\u001b[32m1314\u001b[39m     \u001b[38;5;28;01mreturn\u001b[39;00m \u001b[38;5;28;43mself\u001b[39;49m\u001b[43m.\u001b[49m\u001b[43mread\u001b[49m\u001b[43m(\u001b[49m\u001b[43mnbytes\u001b[49m\u001b[43m,\u001b[49m\u001b[43m \u001b[49m\u001b[43mbuffer\u001b[49m\u001b[43m)\u001b[49m\n\u001b[32m   1315\u001b[39m \u001b[38;5;28;01melse\u001b[39;00m:\n\u001b[32m   1316\u001b[39m     \u001b[38;5;28;01mreturn\u001b[39;00m \u001b[38;5;28msuper\u001b[39m().recv_into(buffer, nbytes, flags)\n",
      "\u001b[36mFile \u001b[39m\u001b[32mc:\\Users\\a943763\\AppData\\Local\\Programs\\Python\\Python311\\Lib\\ssl.py:1166\u001b[39m, in \u001b[36mSSLSocket.read\u001b[39m\u001b[34m(self, len, buffer)\u001b[39m\n\u001b[32m   1164\u001b[39m \u001b[38;5;28;01mtry\u001b[39;00m:\n\u001b[32m   1165\u001b[39m     \u001b[38;5;28;01mif\u001b[39;00m buffer \u001b[38;5;129;01mis\u001b[39;00m \u001b[38;5;129;01mnot\u001b[39;00m \u001b[38;5;28;01mNone\u001b[39;00m:\n\u001b[32m-> \u001b[39m\u001b[32m1166\u001b[39m         \u001b[38;5;28;01mreturn\u001b[39;00m \u001b[38;5;28;43mself\u001b[39;49m\u001b[43m.\u001b[49m\u001b[43m_sslobj\u001b[49m\u001b[43m.\u001b[49m\u001b[43mread\u001b[49m\u001b[43m(\u001b[49m\u001b[38;5;28;43mlen\u001b[39;49m\u001b[43m,\u001b[49m\u001b[43m \u001b[49m\u001b[43mbuffer\u001b[49m\u001b[43m)\u001b[49m\n\u001b[32m   1167\u001b[39m     \u001b[38;5;28;01melse\u001b[39;00m:\n\u001b[32m   1168\u001b[39m         \u001b[38;5;28;01mreturn\u001b[39;00m \u001b[38;5;28mself\u001b[39m._sslobj.read(\u001b[38;5;28mlen\u001b[39m)\n",
      "\u001b[31mKeyboardInterrupt\u001b[39m: "
     ]
    }
   ],
   "source": [
    "sqa = SQA_solver(n_spins=n_spins, n_shots=n_shots, delta_t=delta_t)\n",
    "\n",
    "num_repeats = 5  # Number of times to repeat the optimization with different seeds\n",
    "mode = 'graph' # \"graph\" or \"random\"\n",
    "\n",
    "if mode =='random':\n",
    "    # Generate a random Ising problem (same for all runs)\n",
    "    J, h = sqa.generate_random_problems(n_examples=1, seed=1)\n",
    "elif mode == 'graph':\n",
    "    file_name = \"40nodes_p0.3_J-1.0to1.0_h0_Erdös-Rényi.pkl\"\n",
    "    G = sqa.load_graph_from_file(filepath=f\"./{file_name}\")\n",
    "    J, h = sqa.ising_params_from_graph(G)\n",
    "\n",
    "seed_list = [i for i in range(1, num_repeats + 1)]\n",
    "\n",
    "# Repeat the parameters for each seed\n",
    "n_spins_list = [n_spins] * num_repeats\n",
    "n_init_list = [n_init] * num_repeats\n",
    "n_iters_list = [n_iters] * num_repeats\n",
    "delta_t_list = [delta_t] * num_repeats\n",
    "n_shots_list = [n_shots] * num_repeats\n",
    "\n",
    "beta_list = []\n",
    "annealing_time_list = []\n",
    "gamma_0_list = []\n",
    "n_trotters_list = []\n",
    "energy_list = []\n",
    "exact_gs_energy_list = []\n",
    "bf_time_list = []\n",
    "time_list = []\n",
    "for seed in seed_list:\n",
    "    print(f\"Running Bayesian optimization with seed {seed}...\")\n",
    "    start = time.time()\n",
    "    bo = BayesianOptimizer(sqa=sqa, bounds=bounds, n_init=n_init, seed=seed)\n",
    "    X_opt, Y_opt, history = bo.optimize(n_iters=n_iters)\n",
    "    best_idx = np.argmin(Y_opt)\n",
    "    end = time.time()\n",
    "    beta_list.append(X_opt[best_idx][0])\n",
    "    annealing_time_list.append(X_opt[best_idx][1])\n",
    "    gamma_0_list.append(X_opt[best_idx][2])    \n",
    "    n_trotters_list.append(int(X_opt[best_idx][3]))\n",
    "    energy_list.append(Y_opt[best_idx][0])\n",
    "    time_list.append(end - start)\n",
    "    print(f\"Best parameters for seed {seed}: beta={X_opt[best_idx][0]:.4f}, annealing_time={X_opt[best_idx][1]:.4f}, gamma_0={X_opt[best_idx][2]:.4f}, n_trotters={int(X_opt[best_idx][3])}\")\n",
    "    print(f\"SQA ground state energy: {Y_opt[best_idx][0]:.4f}\")\n",
    "\n",
    "\n",
    "start_bf = time.time()\n",
    "bf_solver = Brute_Force_Solver(J, h)\n",
    "exact_gs_energy, config = bf_solver.brute_force_solve()\n",
    "end_bf = time.time()\n",
    "bf_time_list = [end_bf - start_bf]*num_repeats\n",
    "exact_gs_energy_list = [exact_gs_energy]*num_repeats\n",
    "print(f\"Actual ground state energy: {exact_gs_energy:.4f}\")\n",
    "print(f\"Brute force solver execution time: {bf_time_list[0]:.4f} seconds\")\n",
    "\n",
    "df = pd.DataFrame(list(zip(n_spins_list, n_shots_list, delta_t_list, n_init_list, n_iters_list, seed_list, time_list, energy_list, beta_list, annealing_time_list, gamma_0_list, n_trotters_list, exact_gs_energy_list, bf_time_list)), \n",
    "                  columns=[\"n_spins\", \"n_shots\", \"delta_t\", \"n_init\", \"n_iters\", \"seed\", \"execution_time\", \"min_energy\", \"opt_beta\", \"opt_annealing_time\", \"opt_gamma_0\", \"opt_n_trotters\", \"exact_gs_energy\", \"bf_time\"])\n",
    "path = f'C:/Users/a943763\\OneDrive - ATOS/Documentos/Python/SQA/SQA_Tunning/Codes/Laboratory/SQA_tunning_temp_gamma_0_v1/ML_hyp_tuning/tables/BO_SQA_results_{n_spins}_fixed_problem_bf_{n_init}_{n_iters}_new_max_t.csv'\n",
    "df.to_csv(path)"
   ]
  }
 ],
 "metadata": {
  "kernelspec": {
   "display_name": "Python 3",
   "language": "python",
   "name": "python3"
  },
  "language_info": {
   "codemirror_mode": {
    "name": "ipython",
    "version": 3
   },
   "file_extension": ".py",
   "mimetype": "text/x-python",
   "name": "python",
   "nbconvert_exporter": "python",
   "pygments_lexer": "ipython3",
   "version": "3.11.9"
  }
 },
 "nbformat": 4,
 "nbformat_minor": 5
}
