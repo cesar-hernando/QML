{
 "cells": [
  {
   "cell_type": "markdown",
   "id": "36323b1e",
   "metadata": {},
   "source": [
    "# Quantum Circuit Born Machine (QCBM): \n",
    "## Learning and generating Bars and Stripes patterns\n",
    "\n",
    "1. Explain unsupervised generative learning\n",
    "2. Explain QCBM\n",
    "3. Explain Bars and Stripes dataset\n",
    "4. Implementation and analysis\n",
    "5. Assess QCBM performance and generalization metrics"
   ]
  },
  {
   "cell_type": "markdown",
   "id": "2d06d9cd",
   "metadata": {},
   "source": [
    "0. Connect to QAAS if you want to use Qaptiva."
   ]
  },
  {
   "cell_type": "code",
   "execution_count": 1,
   "id": "7550383a",
   "metadata": {},
   "outputs": [],
   "source": [
    "connect = False  # Set to False if you want to run locally without QLMaaS\n",
    "\n",
    "if connect:\n",
    "    from qat.qlmaas import QLMaaSConnection\n",
    "    conn = QLMaaSConnection(hostname=\"qlm35e.neasqc.eu\", check_host=False)"
   ]
  },
  {
   "cell_type": "markdown",
   "id": "d3874d23",
   "metadata": {},
   "source": [
    "1. Import the necessary libraries and the self-made QCBM class."
   ]
  },
  {
   "cell_type": "code",
   "execution_count": 2,
   "id": "80c58fda",
   "metadata": {},
   "outputs": [],
   "source": [
    "import numpy as np\n",
    "import matplotlib.pyplot as plt\n",
    "\n",
    "from myqml import QCBM"
   ]
  },
  {
   "cell_type": "markdown",
   "id": "c6c8bd13",
   "metadata": {},
   "source": [
    "2. Define useful functions to generate the bars and stripes dataset"
   ]
  },
  {
   "cell_type": "code",
   "execution_count": 3,
   "id": "88fd3602",
   "metadata": {},
   "outputs": [],
   "source": [
    "def binary_basis(geometry):\n",
    "    num_bit = np.prod(geometry)\n",
    "    M = 2**num_bit\n",
    "    x = np.arange(M)\n",
    "    return unpacknbits(x[:,None], num_bit).reshape((-1,)+geometry)\n",
    "\n",
    "def unpacknbits(arr, nbit, axis=-1):\n",
    "    '''unpack numbers to bitstrings.'''\n",
    "    nd = np.ndim(arr)\n",
    "    if axis < 0:\n",
    "        axis = nd + axis\n",
    "    return (((arr & (1 << np.arange(nbit - 1, -1, -1)).reshape([-1] + [1] * (nd - axis - 1)))) > 0).astype('int8')\n",
    "\n",
    "def barstripe_pdf(geometry):\n",
    "    '''get bar and stripes PDF'''\n",
    "    x = binary_basis(geometry)\n",
    "    pl = is_bs(x)\n",
    "    return pl/pl.sum()\n",
    "\n",
    "def is_bs(samples):\n",
    "    '''a sample is a bar or a stripe.'''\n",
    "    return (np.abs(np.diff(samples,axis=-1)).sum(axis=(1,2))==0\\\n",
    "           )|((np.abs(np.diff(samples, axis=1)).sum(axis=(1,2)))==0)\n",
    "\n",
    "def cost(samples):\n",
    "    '''Cost of a matrix, minimized when for all columns and rows, all their elements are equal'''\n",
    "    return np.sum(np.minimum(np.abs(np.diff(samples,axis=-1)).sum(axis=(1,2)), np.abs(np.diff(samples, axis=1)).sum(axis=(1,2))))/len(samples)"
   ]
  },
  {
   "cell_type": "markdown",
   "id": "6a27eb1f",
   "metadata": {},
   "source": [
    "3. Generate the bars and stripes dataset and plot its histogram"
   ]
  },
  {
   "cell_type": "code",
   "execution_count": 4,
   "id": "f0e1f5c5",
   "metadata": {},
   "outputs": [
    {
     "data": {
      "image/png": "[encoded data removed]",
      "text/plain": [
       "<Figure size 640x480 with 1 Axes>"
      ]
     },
     "metadata": {},
     "output_type": "display_data"
    }
   ],
   "source": [
    "dimension = (3,3)\n",
    "target_probs = barstripe_pdf(dimension)\n",
    "plt.plot(target_probs)\n",
    "# show ticks\n",
    "basis = binary_basis(dimension)\n",
    "plt.xticks([0, 2**(dimension[0]*dimension[1]) - 1], [basis[0], basis[2**(dimension[0]*dimension[1]) - 1]])\n",
    "plt.show = ()"
   ]
  },
  {
   "cell_type": "markdown",
   "id": "96e2378a",
   "metadata": {},
   "source": [
    "4. Plot all the valid images (bars and stripes)"
   ]
  },
  {
   "cell_type": "code",
   "execution_count": 5,
   "id": "da126c94",
   "metadata": {},
   "outputs": [
    {
     "data": {
      "image/png": "[encoded data removed]",
      "text/plain": [
       "<Figure size 640x480 with 14 Axes>"
      ]
     },
     "metadata": {},
     "output_type": "display_data"
    }
   ],
   "source": [
    "# generate samples\n",
    "samples = basis[target_probs>1e-2]\n",
    "n_sols = len(samples)\n",
    "\n",
    "# show bar and stripes\n",
    "def plot_bs(samples, size):\n",
    "    plt.figure(facecolor='#777777')\n",
    "    gs = plt.GridSpec(*size)\n",
    "\n",
    "    for i in range(size[0]):\n",
    "        for j in range(size[1]):\n",
    "            if i*size[1]+j == len(samples): break\n",
    "            plt.subplot(gs[i,j]).imshow(samples[i*size[1]+j], vmin=0, vmax=1)\n",
    "            plt.axis('equal')\n",
    "            plt.axis('off')\n",
    "    plt.show = ()\n",
    "\n",
    "size = (4,4)\n",
    "plot_bs(samples, size)"
   ]
  },
  {
   "cell_type": "markdown",
   "id": "9800dc51",
   "metadata": {},
   "source": [
    "5. Define parameters and create an object of the QCBM class"
   ]
  },
  {
   "cell_type": "code",
   "execution_count": null,
   "id": "34c20903",
   "metadata": {},
   "outputs": [],
   "source": [
    "dimension = (3,3)\n",
    "n_qubits = np.prod(dimension)\n",
    "basis = binary_basis(dimension)\n",
    "basis_flat = basis.reshape(basis.shape[0], -1)\n",
    "n_blocks = 12\n",
    "n_shots = 20000\n",
    "device = 'myQLM'\n",
    "sigma_list_kernel = [0.5, 1, 2, 4]\n",
    "method = \"L-BFGS-B\"\n",
    "\n",
    "qcbm = QCBM(\n",
    "    n_qubits=n_qubits,\n",
    "    basis=basis_flat,\n",
    "    n_blocks=n_blocks, \n",
    "    n_shots=n_shots,\n",
    "    device=device,\n",
    "    sigma_list_kernel=sigma_list_kernel,\n",
    "    dimension=dimension\n",
    ")\n"
   ]
  },
  {
   "cell_type": "markdown",
   "id": "128edeb4",
   "metadata": {},
   "source": [
    "6. Select training data"
   ]
  },
  {
   "cell_type": "code",
   "execution_count": 7,
   "id": "77f34bbb",
   "metadata": {},
   "outputs": [],
   "source": [
    "reweightning = False\n",
    "remove_samples = False\n",
    "\n",
    "if reweightning and remove_samples:\n",
    "    pass\n",
    "elif not(reweightning) and remove_samples:\n",
    "    n_removed_valid_samples = 6\n",
    "    valid_indices = np.where(target_probs > 1e-3)\n",
    "    chosen_indices = np.random.choice(valid_indices[0], size=n_removed_valid_samples, replace=False)\n",
    "    target_probs[chosen_indices] = 0.0\n",
    "    # Renormalize to sum to 1\n",
    "    target_probs /= target_probs.sum()\n",
    "\n",
    "    # Print kept matrices\n",
    "    size = (3,3)\n",
    "    print(\"Printing kept valid matrices\")\n",
    "    plot_bs(basis[target_probs > 1e-3], size)\n"
   ]
  },
  {
   "cell_type": "markdown",
   "id": "e8e97f30",
   "metadata": {},
   "source": [
    "7. Train the QCBM"
   ]
  },
  {
   "cell_type": "code",
   "execution_count": 8,
   "id": "ef9b2dd4",
   "metadata": {},
   "outputs": [
    {
     "name": "stdout",
     "output_type": "stream",
     "text": [
      "Step 1, Loss: 0.105613\n",
      "Step 2, Loss: 0.089439\n",
      "Step 3, Loss: 0.083340\n",
      "Step 4, Loss: 0.072634\n",
      "Step 5, Loss: 0.068379\n",
      "Step 6, Loss: 0.062650\n",
      "Step 7, Loss: 0.058558\n",
      "Step 8, Loss: 0.055720\n",
      "Step 9, Loss: 0.052421\n",
      "Step 10, Loss: 0.050989\n",
      "Step 11, Loss: 0.049877\n",
      "Step 12, Loss: 0.050118\n",
      "Step 13, Loss: 0.048249\n",
      "Step 14, Loss: 0.047487\n",
      "Step 15, Loss: 0.046887\n",
      "Step 16, Loss: 0.045733\n",
      "Step 17, Loss: 0.045838\n",
      "Step 18, Loss: 0.043804\n",
      "Step 19, Loss: 0.042807\n",
      "Step 20, Loss: 0.041457\n",
      "Optimization using L-BFGS-B completed in 8858.59 seconds.\n",
      "QCBM fitting ended in 8858.592471837997 s\n"
     ]
    }
   ],
   "source": [
    "max_iter = 20\n",
    "result, tracking_cost, fit_time = qcbm.fit(target_probs=target_probs, method=method, max_iter=max_iter)\n",
    "print(f\"QCBM fitting ended in {fit_time} s\")"
   ]
  },
  {
   "cell_type": "markdown",
   "id": "4c5a0092",
   "metadata": {},
   "source": [
    "8. Plot the training loss"
   ]
  },
  {
   "cell_type": "code",
   "execution_count": 9,
   "id": "4aabfbd3",
   "metadata": {},
   "outputs": [
    {
     "data": {
      "image/png": "[encoded data removed]",
      "text/plain": [
       "<Figure size 640x480 with 1 Axes>"
      ]
     },
     "metadata": {},
     "output_type": "display_data"
    }
   ],
   "source": [
    "qcbm.plot_loss(tracking_cost)"
   ]
  },
  {
   "cell_type": "markdown",
   "id": "df164fad",
   "metadata": {},
   "source": [
    "9. Generate new samples and plot the probability distribution of the generated data"
   ]
  },
  {
   "cell_type": "code",
   "execution_count": 1,
   "id": "f0ccdb09",
   "metadata": {},
   "outputs": [
    {
     "ename": "NameError",
     "evalue": "name 'qcbm' is not defined",
     "output_type": "error",
     "traceback": [
      "\u001b[31m---------------------------------------------------------------------------\u001b[39m",
      "\u001b[31mNameError\u001b[39m                                 Traceback (most recent call last)",
      "\u001b[36mCell\u001b[39m\u001b[36m \u001b[39m\u001b[32mIn[1]\u001b[39m\u001b[32m, line 2\u001b[39m\n\u001b[32m      1\u001b[39m n_gen_samples = \u001b[32m100000\u001b[39m\n\u001b[32m----> \u001b[39m\u001b[32m2\u001b[39m samples_matrix, samples = \u001b[43mqcbm\u001b[49m.generate_samples(n_gen_samples)\n\u001b[32m      3\u001b[39m qcbm.plot_generated_distribution(samples)\n",
      "\u001b[31mNameError\u001b[39m: name 'qcbm' is not defined"
     ]
    }
   ],
   "source": [
    "n_gen_samples = 100000\n",
    "samples_matrix, samples = qcbm.generate_samples(n_gen_samples)\n",
    "qcbm.plot_generated_distribution(samples)"
   ]
  },
  {
   "cell_type": "markdown",
   "id": "684e8ee2",
   "metadata": {},
   "source": [
    "10. Plot some generated samples to see if they are valid"
   ]
  },
  {
   "cell_type": "code",
   "execution_count": 11,
   "id": "0ec76699",
   "metadata": {},
   "outputs": [
    {
     "data": {
      "image/png": "[encoded data removed]",
      "text/plain": [
       "<Figure size 640x480 with 64 Axes>"
      ]
     },
     "metadata": {},
     "output_type": "display_data"
    }
   ],
   "source": [
    "qcbm.plot_generated_samples(samples_matrix[0:64])"
   ]
  },
  {
   "cell_type": "markdown",
   "id": "522a1c62",
   "metadata": {},
   "source": [
    "11. Calculate the generalization metrics to assess the performance of the QCBM on the bars and stripes dataset"
   ]
  },
  {
   "cell_type": "code",
   "execution_count": 12,
   "id": "0f3ff27e",
   "metadata": {},
   "outputs": [
    {
     "name": "stdout",
     "output_type": "stream",
     "text": [
      "Generalization perfomance of QCBM on Bars and stripes dataset:\n",
      " {'precision': 0.3491, 'fidelity': 0.0, 'rate': 0.0, 'coverage': 0.0, 'average cost': 1.3287}\n"
     ]
    }
   ],
   "source": [
    "x_tr = basis[target_probs > 1e-3]\n",
    "\n",
    "metrics = qcbm.calculate_metrics(np.array(samples_matrix), x_tr, is_bs, n_sols, cost)\n",
    "print(\"Generalization perfomance of QCBM on Bars and stripes dataset:\\n\", metrics)"
   ]
  }
 ],
 "metadata": {
  "kernelspec": {
   "display_name": "Python 3",
   "language": "python",
   "name": "python3"
  },
  "language_info": {
   "codemirror_mode": {
    "name": "ipython",
    "version": 3
   },
   "file_extension": ".py",
   "mimetype": "text/x-python",
   "name": "python",
   "nbconvert_exporter": "python",
   "pygments_lexer": "ipython3",
   "version": "3.11.9"
  }
 },
 "nbformat": 4,
 "nbformat_minor": 5
}
